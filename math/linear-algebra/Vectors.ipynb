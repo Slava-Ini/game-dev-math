{
 "cells": [
  {
   "cell_type": "markdown",
   "id": "b51d1359-e366-4389-8985-aee286676f4a",
   "metadata": {},
   "source": [
    "# Vectors "
   ]
  },
  {
   "cell_type": "markdown",
   "id": "03f9411a-1b2e-4607-a68c-ba7f52c79050",
   "metadata": {},
   "source": [
    "## General Info\n",
    "\n",
    "Vectors represent the shift of the value. Horizontal and vertical parts of the vector are called _components_  \n",
    "Sides of vectors are called _head_ and _tail_\n",
    "\n",
    "Vectors are described using:\n",
    "- $\\begin{bmatrix}x \\\\ y\\end{bmatrix}$ for 2D matrix\n",
    "- $\\begin{bmatrix}x \\\\ y \\\\ z\\end{bmatrix}$ for 3D matrix"
   ]
  },
  {
   "cell_type": "markdown",
   "id": "7c8350ed-b937-4c6d-afb3-96326e1d919d",
   "metadata": {},
   "source": [
    "## Addition\n",
    "\n",
    "To add vectors $\\vec{v}$ and $\\vec{w}$ we add their components:\n",
    "> $\\vec{v} + \\vec{w} = \\begin{bmatrix}v_x \\\\ v_y\\end{bmatrix} + \\begin{bmatrix}w_x \\\\ w_y\\end{bmatrix} = \\begin{bmatrix}v_x + w_x \\\\ v_y + w_x\\end{bmatrix}$"
   ]
  },
  {
   "cell_type": "code",
   "execution_count": 46,
   "id": "c0739076-16a4-4e4f-b711-56e389037951",
   "metadata": {
    "jupyter": {
     "source_hidden": true
    }
   },
   "outputs": [
    {
     "data": {
      "image/png": "[encoded data removed]",
      "text/plain": [
       "<Figure size 640x480 with 1 Axes>"
      ]
     },
     "metadata": {},
     "output_type": "display_data"
    }
   ],
   "source": [
    "import matplotlib.pyplot as plt\n",
    "from matplotlib.patches import Polygon\n",
    "\n",
    "arrow_style = {\n",
    "    \"head_width\": 0.1,\n",
    "    \"head_length\": 0.2,\n",
    "    \"length_includes_head\":True,\n",
    "}\n",
    "\n",
    "plt.arrow(x=3, y=4, dx=2, dy=4, color=\"y\", **arrow_style)\n",
    "plt.annotate(r'$\\vec{v}$',\n",
    "             xy=(3.5, 6.2),\n",
    "             xytext=(4.5, 6.5),\n",
    "             textcoords='offset points')\n",
    "\n",
    "plt.arrow(x=5, y=8, dx=3, dy=-3, color=\"orange\", **arrow_style)\n",
    "plt.annotate(r'$\\vec{w}$',\n",
    "             xy=(6.5, 6.5),\n",
    "             xytext=(4.5, 6.5),\n",
    "             textcoords='offset points')\n",
    "\n",
    "plt.arrow(x=3, y=4, dx=5, dy=1, color=\"purple\", **arrow_style)\n",
    "plt.annotate(r'$\\vec{v}+\\vec{w}$',\n",
    "             xy=(5, 4.5),\n",
    "             xytext=(4.5, 6.5),\n",
    "             textcoords='offset points')\n",
    "\n",
    "plt.grid()\n",
    "plt.xlim(1, 10)\n",
    "plt.ylim(1, 10)\n",
    "plt.xlabel(\"X-axis\")\n",
    "plt.ylabel(\"Y-axis\")\n",
    "plt.show()"
   ]
  },
  {
   "cell_type": "markdown",
   "id": "191f1634-2f6b-4af1-ae9d-1bba00cb7f79",
   "metadata": {},
   "source": [
    "## Multiplication\n",
    "<a id=\"multiplication\"></a>\n",
    "### By scalar\n",
    "Multiplication by scalar _scales_ the vector\n",
    ">$k\\vec{w} = \\begin{bmatrix}k\\times x \\\\ k \\times y\\end{bmatrix}$\n",
    "\n",
    "Where $k$ is scalar  \n",
    "When $0 < k < 1$ - scaled vector is shorter  \n",
    "When $k > 1$ - scaled vector is longer"
   ]
  },
  {
   "cell_type": "markdown",
   "id": "8ff2bb1c-3b62-42c5-9557-94eba0192f97",
   "metadata": {},
   "source": [
    "## Vector Basis\n",
    "\n",
    "Vectors have basis, they are a basis unit or unit vectors, which the scalars (vector digits) actually scale.\n",
    "So they are kind of a base building block or a single unit, which gets transformed by a vector.\n",
    "\n",
    "Vector bases are usually defined by:\n",
    "- x -> $\\hat{i}$\n",
    "- y -> $\\hat{j}$\n",
    "- z -> $\\hat{k}$\n",
    "\n",
    "A common vector $\\begin{bmatrix}3\\\\-2\\end{bmatrix}$ can be represented as  $(3)\\hat{i}+(-2)\\hat{j}$\n",
    "\n",
    "- _Linear combination_ of vectors $\\vec{v}$ and $\\vec{w}$ is $a\\vec{v} + b\\vec{w}$\n",
    " where $\\vec{v}$ and $\\vec{w}$ are vector bases and $a$ and $b$ are scalars (components)\n",
    "\n",
    "- The _span_$^1$ of $a\\vec{v} + b\\vec{w}$ is the set of all their linear combinations i.e. all the plane points they can reach.\n",
    "\n",
    "- Usually the _span_ is all the points unless both vectors are $0$ or both vectors line up (one is at the tip of another), in that case vectors are called _linearly dependent_ meaning that one of them is redundant e.g. $\\vec{u} = a\\vec{v} + b\\vec{w}$ (3D example, which has more complex cases for redundancy), otherwise for $\\vec{w} \\neq a\\vec{v}$ or for $\\vec{u} \\neq a\\vec{v} + b\\vec{w}$ the vectors are _linearly independent_$^2$\n",
    "\n",
    "The exact definition of vector basis:\n",
    ">The _basis_ of a vector space is a set of _linearly independent_$^2$ vectors that _span_$^1$ the full space\n",
    " "
   ]
  },
  {
   "cell_type": "markdown",
   "id": "3915b1ac-461b-4027-86c3-143347cd887d",
   "metadata": {},
   "source": [
    "## Linear Transformation\n",
    "\n",
    "_Linear transformation_ is basically a function, or an operation that takes in a vector and outputs another vector $L(\\vec{v})$\n",
    "\n",
    "The tranformation is _linear_ only when:\n",
    "- All lines remain lines (do not curve)\n",
    "- Grid lines remain parallel and evenly spaced\n",
    "- Origin is fixed in place\n",
    "\n",
    "Because any transformation can be described by a transformation of $\\hat{i}$ and $\\hat{j}$  \n",
    "Example, given a vector $(x, y)$:  \n",
    "$\\hat{i}$ -> $\\begin{bmatrix}1 \\\\ -2\\end{bmatrix}$, $\\hat{j}$ -> $\\begin{bmatrix}3 \\\\ 0\\end{bmatrix}$  \n",
    "$\\begin{bmatrix}x \\\\ y\\end{bmatrix} = x\\begin{bmatrix}1 \\\\ -2\\end{bmatrix} + y\\begin{bmatrix}3 \\\\ 0\\end{bmatrix} = \\begin{bmatrix}1x + 3y \\\\ -2x + 0y\\end{bmatrix}$\n",
    "\n",
    "The matrix in this case is $\\begin{bmatrix}1 & 3\\\\-2 & 0\\end{bmatrix}$, the matrix itself is just a way to package information\n",
    "\n",
    "So the general rule of a transformation is:\n",
    "\n",
    "When applying transformation matrix $\\begin{bmatrix}a & b\\\\c & d\\end{bmatrix}$ to vector $\\begin{bmatrix}x \\\\ y\\end{bmatrix}$ we get \n",
    "$$\\begin{bmatrix}a & b\\\\c & d\\end{bmatrix}\\begin{bmatrix}x \\\\ y\\end{bmatrix} = x\\begin{bmatrix}a \\\\ c\\end{bmatrix} + y\\begin{bmatrix}b \\\\ d\\end{bmatrix} = \\begin{bmatrix}ax + by\\\\ cx + dy\\end{bmatrix}$$\n",
    "\n",
    "#### Examples\n",
    "- If we rotate $90\\textdegree$ counterclockwise our $\\hat{i}$ moved to $(0, 1)$ and $\\hat{j}$ moved to $(-1, 0)$ - the matrix is $\\begin{bmatrix}0 & -1\\\\ 1 & 0 \\end{bmatrix}$, which is a _linear transformation_ we can use to rotate any vector $90\\textdegree$ counterclockwise\n",
    "- There's a special form of matrix transformation called _shear_, probably due to how _shears_ look, it's $\\begin{bmatrix}1 & 1\\\\0 & 1\\end{bmatrix}$\n",
    "- For some matrices like $\\begin{bmatrix}2 & -2\\\\1 & -1\\end{bmatrix}$ we get _lineary dependent_ columns, meaning that all the vectors will span in the same direction"
   ]
  },
  {
   "cell_type": "markdown",
   "id": "76473b6f-d191-40c5-97e6-9625a7208822",
   "metadata": {},
   "source": [
    "### Composition of Linear Tranformation\n",
    "\n",
    "Composition is a product matrix of several matrix linear transformations, e.g. counterclockwise rotation matrix + shear matrix will give  $\\begin{bmatrix}1 & -1 \\\\ 1 & 0\n",
    "\\end{bmatrix}$ , we could find it by first applying one linear transformation to the vector and then the other, but it's much simpler to make a _composition_ of matrices:\n",
    "\n",
    "<img src=\"../../assets/matrix-composition.png\" alt=\"composition\" width=\"800\"/>\n",
    "\n",
    "> Note: As seen on the image similar to function notation $f(g(x))$ we first apply the transformation on the right and then on the left\n",
    "\n",
    "To get an actual product, we multiply each matrix component (basis, unit vector) to the next matrix right to left (see the image)\n",
    "\n",
    "<img src=\"../../assets/matrix-composition-2.png\" alt=\"composition\" width=\"800\"/>\n",
    "\n",
    "E.g. here on the picture we get the $\\hat{i}$ component of the result _composition_ transformation\n",
    "\n",
    "So the result formula can be expressed as follows:\n",
    "$$\n",
    "\\begin{bmatrix}\\textcolor{pink}{a} & \\textcolor{pink}{b} \\\\ \\textcolor{pink}{c} & \\textcolor{pink}{d}\\end{bmatrix} \\begin{bmatrix}\\textcolor{cyan}{e} & \\textcolor{cyan}{f} \\\\ \\textcolor{cyan}{g} & \\textcolor{cyan}{h}\\end{bmatrix} = \\begin{bmatrix} \\textcolor{pink}{a}\\textcolor{cyan}{e} + \\textcolor{pink}{b}\\textcolor{cyan}{g} &  \\textcolor{pink}{a}\\textcolor{cyan}{f} + \\textcolor{pink}{b}\\textcolor{cyan}{h} \\\\ \\textcolor{pink}{c}\\textcolor{cyan}{e} + \\textcolor{pink}{d}\\textcolor{cyan}{g} &  \\textcolor{pink}{c}\\textcolor{cyan}{f} + \\textcolor{pink}{d}\\textcolor{cyan}{h} \\end{bmatrix}\n",
    "$$\n",
    "\n",
    ">Note: order of transformation matters!"
   ]
  },
  {
   "cell_type": "markdown",
   "id": "033c56e3-760b-445b-a1fe-17fea1a219cc",
   "metadata": {},
   "source": [
    "### 3D vectors\n",
    "\n",
    "It works exactly the same way for 3D vectors:\n",
    "$$\n",
    "\\vec{v} = \\begin{bmatrix}x \\\\ y \\\\ z\\end{bmatrix} = x\\hat{i} + y\\hat{j} + z\\hat{t}\n",
    "$$\n",
    "\n",
    "<img src=\"../../assets/matrix-composition-3.png\" alt=\"composition\" width=\"800\"/>"
   ]
  },
  {
   "cell_type": "markdown",
   "id": "a79aa32c-9df5-4fd9-ab2a-3be1c57f476e",
   "metadata": {},
   "source": [
    "### Determinant\n",
    "\n",
    "As known from `Cross-Product` writings - _the determinant_ is something that can be useful to measure the scale of a matrix\n",
    "E.g. if we have a matrix $\\begin{bmatrix}3 & 0 \\\\ 0 & 2\\end{bmatrix}$ we can intuitively see by unit vectors $\\hat{i}$ and $\\hat{j}$ that the matrix area increased from $1$ to $6$ i.e. _the determinant _ of the underlying transformation is $6$\n",
    "\n",
    "If the determinant becomes negative it means that $\\hat{j}$ is situated to the right of $\\hat{i}$ unlike the default position i.e. the direction is kind of inverted.\n",
    "\n",
    "3D determinant formula is as follows:\n",
    "$$det(\\begin{bmatrix}a & b & c \\\\ d & e & f \\\\ g & h & i\\end{bmatrix}) = a \\times det(\\begin{bmatrix}e & f \\\\ h & i\\end{bmatrix}) - b \\times det(\\begin{bmatrix}d & f \\\\ g & i\\end{bmatrix}) - c \\times det(\\begin{bmatrix}d & e \\\\ g & h\\end{bmatrix})$$\n",
    "\n",
    "> Note: This starting equation and it's signs come from _Laplace expansion_, where _minors_ and _cofactors_ are important $$C_{ij}= (-1)^{i+j} M_{ij}$$ \n",
    "\n",
    "The formula is easy to grasp when thinking of $\\begin{bmatrix}2 & 0 & 0 \\\\ 0 & 2 & 0 \\\\ 0 & 0 & 2\\end{bmatrix}$ matrix transformation that will increase prallelipiped area to be $8$ (determinant) via the series of 2D transformations from the formula\n",
    "\n",
    "This formula is simplified to this:\n",
    "$$\n",
    "= aei + bfg + cdh - ceg - bdi - afh\n",
    "$$\n",
    "It can be easily memorized using diagonal lines on a matrix, see the scribbles:\n",
    "\n",
    "<img src=\"../../assets/determinant_2.png\" alt=\"composition\" width=\"800\"/>"
   ]
  },
  {
   "cell_type": "markdown",
   "id": "144a79a4-2b02-4fc9-8c2c-2cc2ef79fe4e",
   "metadata": {},
   "source": [
    "### Systems of Equations\n",
    "\n",
    "Some equations are suitable for linear algebra and for matrices in particular e.g.\n",
    "$$2x + 5y + 3z = -3$$\n",
    "$$4x + 0y + 8z = 0$$\n",
    "$$1x + 3y + 0z = 2$$\n",
    "\n",
    "Here it looks very similar to a matrix\n",
    "> Note: It's only applicable to those equations with addition operations  \n",
    "> Note: In this case variables that are absent can be substituted to 0 (like $0y$ and $0z$ from example above)\n",
    "\n",
    "It's called _Linear System of Equations_  \n",
    "It can be expressed as follows:\n",
    "$$\n",
    "\\begin{bmatrix}2 & 5 & 3 \\\\ 4 & 0 & 8 \\\\ 1 & 3 & 0\\end{bmatrix}\\begin{bmatrix}x\\\\y\\\\x\\end{bmatrix} = \\begin{bmatrix}-3 \\\\ 0 \\\\ 2\\end{bmatrix}\n",
    "$$\n",
    "In other words we get $$A\\vec{x}=\\vec{v}$$ where:  \n",
    "- $A$ is 3x3 matrix, which is a linear transformation\n",
    "- $\\vec{x}$ is $x y z$ variable vector\n",
    "- $\\vec{v}$ is $-3,0,2$ vector\n",
    "\n",
    "> We can imagine it as $\\vec{x}$ lands on $\\vec{v}$ after transformation $A$\n",
    "\n",
    "We solve the equation for two cases:\n",
    "1. $det(A) = 0$ i.e. space squishes into a single line or point\n",
    "2. $det(A) \\neq 0$ normal transformation\n",
    "\n",
    "#### Case $det(A) \\neq0$ \n",
    "\n",
    "Let's first take most probable $det(A) \\neq 0$ case  \n",
    "In that case $A$ transformation will always result in $\\vec{v}$ for $\\vec{x}$\n",
    "\n",
    "We can also apply _inverse transformation_ $A^{-1}$, which looks as follows $\\begin{bmatrix}a & b \\\\ c & d\\end{bmatrix}^{-1}$  \n",
    "So e.g. for $\\begin{bmatrix}0 & -1 \\\\ 1 & 0\\end{bmatrix}$ ($90\\degree$ counterclockwise rotation) the inverser matrix will be $\\begin{bmatrix}0 & 1 \\\\ -1 & 0\\end{bmatrix}$ i.e. $90\\degree$ clockwise rotation\n",
    "\n",
    "$A^{-1}$ is unique in the sense that when we have $A^{-1}A$ (Note: right to left applying) we will get a transformation that does nothing (empty matrix $\\begin{bmatrix}1 & 0 \\\\ 0  & 1\\end{bmatrix}$ , or 3D equivalent $\\begin{bmatrix}1 & 0 & 0 \\\\ 0 & 1 & 0 \\\\ 0 & 0 & 1\\end{bmatrix}$) also called _identity transformation_\n",
    "\n",
    "This knowledge gives us a possiblity to rearrange the matrix as follows:\n",
    "$$A^{-1}A\\vec{x} = A^{-1}\\vec{v}$$\n",
    "$$\\vec{x} = A^{-1}\\vec{v}$$\n",
    " (removing _identity transformation_)\n",
    "\n",
    " #### Case $det(A) = 0$ \n",
    "\n",
    " In this case there is no function to \"unsquish\" a line, however depending on wheather the $\\vec{v}$ lives within the resulting squished plane/line/dot\n",
    "\n",
    " One may notice that the restriction of plane/line/dot squish are different, therefore transformations have ranks:\n",
    " - Rank 1 - results in line\n",
    " - Rank 2 - results in 2D plane\n",
    " - Rank 3 - results in 3D space\n",
    "I.e. _Rank_ is a number of dimensions in the output of a transformation  \n",
    "_Column space_ of matrix - is a set of all possible outputs (ranks) of matrix $A\\vec{v}$, it's called _column space_ because in _full rank_ matrices rank = to the number of matrix columns (speaking of column major matrices ofc)\n",
    "_Null space_(_kernel_) of matrix - is a set of vectors that land on origin/zero vector becoming null after the squishing\n",
    "\n",
    "So for $A\\vec{x} = \\vec{v}$ when $\\vec{v}$ happens to be $\\begin{bmatrix}0\\\\0\\end{bmatrix}$ vector, the _null space_ gives us all possible solutions to an equation"
   ]
  },
  {
   "cell_type": "markdown",
   "id": "9e2fcebd-f674-441a-be96-efd2064d3057",
   "metadata": {},
   "source": [
    "### Nonsquare matrices\n",
    "\n",
    "Nonsquare matrices can represent transformations between dimensions, e.g.:\n",
    "$\\begin{bmatrix}2 \\\\ 7\\end{bmatrix} -> L(\\vec{v}) -> \\begin{bmatrix}1 \\\\ 8 \\\\ 2\\end{bmatrix}$\n",
    "\n",
    "If we take a following transformation:    \n",
    "$\\begin{bmatrix}2 & 0 \\\\ -1 & 1 \\\\ -2 & 1\\end{bmatrix}$  \n",
    "In this example we have unit vectors $\\hat{i}$ and $\\hat{j}$ span across 3D plane, wich will be plane because it won't have $\\hat{t}$ to span across, however the plane itself will be rotated according to transformation digits. In other words it's mappind 2 dimensions to 3 dimensions\n",
    "\n",
    "If we take such a transfomation:  \n",
    "$\\begin{bmatrix}3 & 1 & 4 \\\\ 1 & 5 & 9\\end{bmatrix}$  \n",
    "This matrix will just display 3D project on 2D plane (without 3-rd dimension). In other words will just see 3 vectors on a 2D plane\n",
    "\n",
    "It can only be 1D transformation:  \n",
    "$\\begin{bmatrix}1 & 2\\end{bmatrix}$  \n",
    "Which means we are in a line column space (rank 1). In other words just two vectors along a single line"
   ]
  }
 ],
 "metadata": {
  "kernelspec": {
   "display_name": "Math Notes",
   "language": "python",
   "name": "math-notes"
  },
  "language_info": {
   "codemirror_mode": {
    "name": "ipython",
    "version": 3
   },
   "file_extension": ".py",
   "mimetype": "text/x-python",
   "name": "python",
   "nbconvert_exporter": "python",
   "pygments_lexer": "ipython3",
   "version": "3.13.3"
  }
 },
 "nbformat": 4,
 "nbformat_minor": 5
}
