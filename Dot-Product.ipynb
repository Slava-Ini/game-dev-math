{
 "cells": [
  {
   "cell_type": "markdown",
   "id": "a95a657e-82fc-446b-adf9-60b31bc357de",
   "metadata": {},
   "source": [
    "# Dot Product"
   ]
  },
  {
   "cell_type": "markdown",
   "id": "327c79b5-3d33-42bb-af92-0ba9137168db",
   "metadata": {},
   "source": [
    "## General Information\n",
    "Finding _Dot Product_ of two vectors means that we pair up vectors coordinates, multiply those pairs and add the results\n",
    "$$\n",
    "\\begin{bmatrix}2 \\\\ 7 \\\\ 1\\end{bmatrix} \\cdot \\begin{bmatrix}8 \\\\ 2 \\\\ 8\\end{bmatrix} = 2*8 + 7*2 + 8*1 \n",
    "$$\n",
    "\n",
    "We can think of it as $\\vec{v}\\cdot\\vec{w}$ is projecting $\\vec{w}$ onto $\\vec{v}$\n",
    "\n",
    "- If dot product < 0 - the projection points to the different direction  \n",
    "- If dot product = 0 - the projection is perpdendicular\n",
    "\n",
    "> Order of vectors doesn't matter (unlike _cross product_)\n",
    "\n",
    "> Dot product is (length of projection) x (length of projected vector)"
   ]
  },
  {
   "cell_type": "markdown",
   "id": "97f9392c-4f67-4563-9ac9-b42e5950d7a5",
   "metadata": {},
   "source": [
    "## Duality\n",
    "\n",
    "It's worth explaining how this kind of forumal is deducted. There is a duality in how vector and transformation can be treated.\n",
    "\n",
    "As we know from `Nonsquare Matrices` in `Vectors` the transformation $\\begin{bmatrix}a & b\\end{bmatrix}$ will make it so the vector is projected along a single line\n",
    "See the example from the screenshot\n",
    "\n",
    "<img src=\"../../assets/dot-product.png\" alt=\"composition\" width=\"800\"/>\n",
    "\n",
    "We know that 1 x 2 matrices and 2D vectors are related because if we imagine $\\vec{u}$ like so then we can see following line of symmetry rules that it's transformation is the same as its coordinates\n",
    "\n",
    "<img src=\"../../assets/dot-product-2.png\" alt=\"composition\" width=\"800\"/>\n",
    "\n",
    "In other words matrix-vector product is the same as dot product\n",
    "\n",
    "<img src=\"../../assets/dot-product-3.png\" alt=\"composition\" width=\"800\"/>"
   ]
  }
 ],
 "metadata": {
  "kernelspec": {
   "display_name": "Math Notes",
   "language": "python",
   "name": "math-notes"
  },
  "language_info": {
   "codemirror_mode": {
    "name": "ipython",
    "version": 3
   },
   "file_extension": ".py",
   "mimetype": "text/x-python",
   "name": "python",
   "nbconvert_exporter": "python",
   "pygments_lexer": "ipython3",
   "version": "3.13.3"
  }
 },
 "nbformat": 4,
 "nbformat_minor": 5
}
