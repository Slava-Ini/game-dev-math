{
 "cells": [
  {
   "cell_type": "markdown",
   "id": "8af2cc5a-610c-4d94-8f62-5c3523e813a5",
   "metadata": {},
   "source": [
    "# Barycentric Coordinates\n"
   ]
  }
 ],
 "metadata": {
  "kernelspec": {
   "display_name": "Math Notes",
   "language": "python",
   "name": "math-notes"
  },
  "language_info": {
   "codemirror_mode": {
    "name": "ipython",
    "version": 3
   },
   "file_extension": ".py",
   "mimetype": "text/x-python",
   "name": "python",
   "nbconvert_exporter": "python",
   "pygments_lexer": "ipython3",
   "version": "3.12.3"
  }
 },
 "nbformat": 4,
 "nbformat_minor": 5
}
