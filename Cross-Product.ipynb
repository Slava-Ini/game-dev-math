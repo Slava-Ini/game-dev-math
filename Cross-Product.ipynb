{
 "cells": [
  {
   "cell_type": "markdown",
   "id": "8e53c8c3-93d0-4e05-9d33-5cd286188ffa",
   "metadata": {},
   "source": [
    "# Cross Product\n",
    "\n",
    "Use vector cross product to find if the point is inside a triangle\n",
    "\n",
    "In this formula we use _determinant_ , which is also a cross product of two vectors: \n",
    "\n",
    ">$Cross(\\vec{u}, \\vec{v}) =  u_x \\times v_y - u_y \\times v_x$ \n",
    "\n",
    "The cross product formula itself gives us an understanding on what side of the edge the point is located i.e. \n",
    "\n",
    ">$E_{AB}(P) = Cross (\\vec{AB}, \\vec{AP})$  \n",
    "\n",
    "where:  \n",
    "- $\\vec{AB}$ is a side of a triangle  \n",
    "- $\\vec{AP}$ is a vec from triangle vertex $A$ to point $P$\n",
    "\n",
    "As a result we get the following cases:\n",
    "\n",
    "- $E_{AB}(P) > 0 \\rightarrow$ P is to the left of AB  \n",
    "- $E_{AB}(P) < 0 \\rightarrow$ P is to the right of AB  \n",
    "- $E_{AB}(P) = 0 \\rightarrow$ P is on the AB\n",
    "\n",
    "> Note: Unlike 3D cross product, which results into another vector perpendicular to both, when working with 2D we get a scalar - magnitude of the vector\n",
    "\n",
    "In the end we want all three edges to comply with the result formula:\n",
    "$$\n",
    "0 < (x_b - x_a)\\times(y_p - y_a) - (y_b - y_a)\\times(x_p - x_a)\n",
    "$$\n",
    ">Note: Each expression is paranthesis is a length of a certain vector (mind the first formula above)  \n",
    "\n",
    "*If the point is to the same side for all the edges - the point is in triangle*"
   ]
  },
  {
   "cell_type": "code",
   "execution_count": 1,
   "id": "4723fff6-9dcb-4bdd-a63a-53c41f3dee56",
   "metadata": {
    "jupyter": {
     "source_hidden": true
    }
   },
   "outputs": [
    {
     "data": {
      "image/png": "[encoded data removed]",
      "text/plain": [
       "<Figure size 640x480 with 1 Axes>"
      ]
     },
     "metadata": {},
     "output_type": "display_data"
    }
   ],
   "source": [
    "import matplotlib.pyplot as plt\n",
    "from matplotlib.patches import Polygon\n",
    "\n",
    "# Triangle\n",
    "vertices = [(4, 2), (9, 2), (6, 8)]\n",
    "triangle = Polygon(vertices, closed=True, facecolor=\"g\", alpha=0.5)\n",
    "\n",
    "vertex_labels = [\"A\", \"C\", \"B\"]\n",
    "for i, (x, y) in enumerate(vertices):\n",
    "    plt.text(x, y, vertex_labels[i], fontsize=12, ha=\"right\", va=\"bottom\")\n",
    "\n",
    "plt.gca().add_patch(triangle)\n",
    "\n",
    "# Point\n",
    "plt.plot(3, 6, \"ro\")\n",
    "plt.text(3, 6, \"P\", fontsize=12, ha=\"right\", va=\"bottom\")\n",
    "\n",
    "# Vectors\n",
    "# - AB\n",
    "plt.arrow(\n",
    "    4,\n",
    "    2,\n",
    "    2,\n",
    "    6,\n",
    "    head_width=0.1,\n",
    "    head_length=0.3,\n",
    "    length_includes_head=True,\n",
    "    overhang=0.2,\n",
    "    color=\"b\",\n",
    "    linestyle=\"--\",\n",
    ")\n",
    "# - AP\n",
    "plt.arrow(\n",
    "    4,\n",
    "    2,\n",
    "    -1,\n",
    "    4,\n",
    "    head_width=0.1,\n",
    "    head_length=0.3,\n",
    "    length_includes_head=True,\n",
    "    color=\"b\",\n",
    "    linestyle=\"--\",\n",
    ")\n",
    "\n",
    "\n",
    "plt.grid()\n",
    "plt.xlim(1, 10)\n",
    "plt.ylim(1, 10)\n",
    "plt.xlabel(\"X-axis\")\n",
    "plt.ylabel(\"Y-axis\")\n",
    "plt.show()\n"
   ]
  },
  {
   "cell_type": "markdown",
   "id": "b2a02583-b1d6-481f-b23e-a1b63acef861",
   "metadata": {},
   "source": [
    "## Additional Notes\n",
    "\n",
    "### Note 1\n",
    "\n",
    "The formula itself is coming from the parallelogram, which module is an actual cross product, also called _determinant_ [see more](https://ru.wikipedia.org/wiki/%D0%9E%D0%BF%D1%80%D0%B5%D0%B4%D0%B5%D0%BB%D0%B8%D1%82%D0%B5%D0%BB%D1%8C)\n",
    "\n",
    "<img src=\"assets/determinant.png\" alt=\"determinant\" width=\"800\"/>\n",
    "\n",
    "### Note 2\n",
    "\n",
    "There's also a [good explanation](https://en.wikipedia.org/wiki/Cross_product) about how direction is determined (which we use directly in our formula)\n",
    "\n",
    "### Note 3\n",
    "\n",
    "The cross product is anti-commutative i.e. when changing places opeartion changes sign\n",
    ">$(A \\times B \\neq B \\times A)$\n",
    "\n",
    ">$(A \\times B = -B \\times A)$"
   ]
  },
  {
   "attachments": {},
   "cell_type": "markdown",
   "id": "85d8e5af-36d9-4db5-ace4-a4226a75a1df",
   "metadata": {},
   "source": [
    "## Other Notes\n",
    "\n",
    "1. $\\vec{v}\\times\\vec{w}=$Area of parallelogram (negative when $\\vec{v}$ is to the left of $\\vec{w}$)  \n",
    "In other words: $\\vec{v}\\times\\vec{w}=-\\vec{w}\\times\\vec{v}$\n",
    "\n",
    "2. The closer the angle bitween the two vectors is to $90\\degree$ the larger determinant is here\n",
    "\n",
    "3. If one vector is scaled, the whole cross product is scaled the same amount i.e. $\\vec{v} \\times 3 \\vec{w} = 3 (\\vec{v} \\times \\vec{w})$\n",
    "\n",
    "4. !! To be precise _the determinant is not really a cross product_, cross product is a vector result in 3D, which is perpendicular to the two vectors\n",
    "\n",
    "> Note: because this cross product vector can be oriented in 2 directions, we can get an exact direction by following right hand rule, where index finger is $\\vec{v}$, middle finger is $\\vec{w}$ and a thumb is $\\vec{v}\\times\\vec{w}$\n",
    "\n",
    "5. Following the `5.` let's find the actual cross product for $\\vec{v} = \\begin{bmatrix}0 \\\\ 0 \\\\ 2\\end{bmatrix}$ and $\\vec{w} = \\begin{bmatrix}0 \\\\ 2 \\\\ 0\\end{bmatrix}$ will be $\\vec{v} \\times \\vec{w} = \\begin{bmatrix}-4 \\\\ 0 \\\\ 0\\end{bmatrix}$\n",
    "   The result here is deducted merely by intuition because we can easily calculate the determinant and imagine in what direction the vector must span. The actual calculation goes as follows:\n",
    "\n",
    "   <img src=\"assets/cross-product.png\" alt=\"cross-product\" width=\"800\"/>\n",
    "\n",
    "6. Here is the number of facts that are used to derive the cross product formula:\n",
    "\n",
    "- $\\vec{v} \\cdot (\\vec{v} \\times \\vec{w}) = 0$ and $\\vec{w} \\cdot (\\vec{v} \\times \\vec{w}) = 0$ signify that the vector dotted with its own cross product with another vector is zero, because dot product of $90\\degree$ is 0\n",
    "- $\\theta = cos^{-1}(\\frac{\\vec{v}\\cdot\\vec{w}}{||\\vec{v}|| \\cdot||\\vec{w}||})$ This is the angle formula from the dot product. It’s relevant because the cross product’s magnitude also encodes the sine of that same angle, so dot product gives you cosine, corss product gives you the sine\n",
    "- $||\\vec{v}\\times\\vec{w}|| = (||\\vec{v}||)(||\\vec{w}||)sin(\\theta)$ This is the defining magnitude property of the cross product.\n",
    "It says the length of the cross product is equal to the area of the parallelogram spanned by $\\vec{v}$ and $\\vec{w}$"
   ]
  },
  {
   "cell_type": "markdown",
   "id": "8cccb718-cb2f-4386-bec0-7ec5fb8406fa",
   "metadata": {},
   "source": [
    "### Continue understanding of cross product\n",
    "\n",
    "Following `5.` from the last paragraph we have another formula, which is much easier to understand\n",
    "\n",
    "   <img src=\"assets/cross-product-2.png\" alt=\"cross-product\" width=\"800\"/>\n",
    "\n",
    "To understand this approach we need to again embrace the duality like it is for _determinant_"
   ]
  }
 ],
 "metadata": {
  "kernelspec": {
   "display_name": "Math Notes",
   "language": "python",
   "name": "math-notes"
  },
  "language_info": {
   "codemirror_mode": {
    "name": "ipython",
    "version": 3
   },
   "file_extension": ".py",
   "mimetype": "text/x-python",
   "name": "python",
   "nbconvert_exporter": "python",
   "pygments_lexer": "ipython3",
   "version": "3.13.3"
  }
 },
 "nbformat": 4,
 "nbformat_minor": 5
}
